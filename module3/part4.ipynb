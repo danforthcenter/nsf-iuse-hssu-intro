{
 "cells": [
  {
   "cell_type": "markdown",
   "id": "1a3358c7-70e7-4da6-9bd9-4d72aa796272",
   "metadata": {},
   "source": [
    "# Module 3: Image Segmentation - Part 4"
   ]
  },
  {
   "cell_type": "code",
   "execution_count": null,
   "id": "3d5b7c9c-5a6d-44d5-8e03-61f65f6dfa61",
   "metadata": {},
   "outputs": [],
   "source": [
    "%matplotlib inline\n",
    "import matplotlib\n",
    "from plantcv import plantcv as pcv\n",
    "from sklearn.cluster import MiniBatchKMeans\n",
    "import numpy as np"
   ]
  },
  {
   "cell_type": "code",
   "execution_count": null,
   "id": "69b79673-61c0-4f69-b146-2fe0321b5002",
   "metadata": {},
   "outputs": [],
   "source": [
    "matplotlib.rcParams[\"figure.max_open_warning\"] = False\n",
    "pcv.params.debug = \"plot\"\n",
    "pcv.params.text_size = 30\n",
    "pcv.params.text_thickness = 20\n",
    "pcv.params.line_thickness = 10"
   ]
  },
  {
   "cell_type": "code",
   "execution_count": null,
   "id": "dc3a9de3-8371-401f-8a71-f951bd30f656",
   "metadata": {},
   "outputs": [],
   "source": [
    "pcv.__version__"
   ]
  },
  {
   "cell_type": "markdown",
   "id": "6455f4e6-5282-4cee-82e3-8d24e8a4ed13",
   "metadata": {},
   "source": [
    "## Clustering (unsupervised machine learning)"
   ]
  },
  {
   "cell_type": "code",
   "execution_count": null,
   "id": "003eed8b-f587-41f4-a47c-48fd261959f0",
   "metadata": {},
   "outputs": [],
   "source": [
    "# Open image file\n"
   ]
  },
  {
   "cell_type": "markdown",
   "id": "efefa07e-4e91-47b2-b02f-be22235bb029",
   "metadata": {},
   "source": [
    "### mini-batch k-means"
   ]
  },
  {
   "cell_type": "code",
   "execution_count": null,
   "id": "64b09c38-6451-4074-8610-f93a7b7668e5",
   "metadata": {},
   "outputs": [],
   "source": [
    "# Create a kmeans model with a defined number of clusters\n",
    "\n",
    "# Get the shape of the color image\n",
    "\n",
    "# Train the kmeans model with the linearized RGB values\n",
    "\n",
    "# Predict labels for the training image\n",
    "\n",
    "# Reshape the labels into an image\n",
    "\n",
    "# Plot the colorized labels\n"
   ]
  },
  {
   "cell_type": "code",
   "execution_count": null,
   "id": "e4d6d823-f5d1-4040-a9ce-bfad2576c8ec",
   "metadata": {},
   "outputs": [],
   "source": [
    "# Create an empty binary mask\n",
    "\n",
    "# Set the mask to white where the kmeans cluster label overlaps plants\n",
    "\n",
    "# Plot the mask\n"
   ]
  },
  {
   "cell_type": "code",
   "execution_count": null,
   "id": "e6401d82-0fdd-4871-8a3a-098d82fbeb03",
   "metadata": {},
   "outputs": [],
   "source": [
    "# Open a new image\n"
   ]
  },
  {
   "cell_type": "code",
   "execution_count": null,
   "id": "982fde1b-10d1-4878-bb00-77f299d7df18",
   "metadata": {},
   "outputs": [],
   "source": [
    "# Apply the trained model to the new image\n",
    "# Predict labels for the training image\n",
    "\n",
    "# Reshape the labels into an image\n",
    "\n",
    "# Plot the colorized labels\n",
    "\n",
    "# Create an empty binary mask\n",
    "\n",
    "# Set the mask to white where the kmeans cluster label overlaps plants\n",
    "\n",
    "# Plot the mask\n"
   ]
  },
  {
   "cell_type": "code",
   "execution_count": null,
   "id": "c072fee5-6ef7-44eb-b987-38558a7361fc",
   "metadata": {},
   "outputs": [],
   "source": []
  }
 ],
 "metadata": {
  "kernelspec": {
   "display_name": "Python [conda env:plantcv] *",
   "language": "python",
   "name": "conda-env-plantcv-py"
  },
  "language_info": {
   "codemirror_mode": {
    "name": "ipython",
    "version": 3
   },
   "file_extension": ".py",
   "mimetype": "text/x-python",
   "name": "python",
   "nbconvert_exporter": "python",
   "pygments_lexer": "ipython3",
   "version": "3.7.10"
  }
 },
 "nbformat": 4,
 "nbformat_minor": 5
}
