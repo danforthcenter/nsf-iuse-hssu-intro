{
 "cells": [
  {
   "cell_type": "markdown",
   "id": "b9b6bac9-22f5-4949-957a-88dbd689f5c3",
   "metadata": {},
   "source": [
    "# Module 3: Image Segmentation - Part 1: Thresholding\n",
    "\n",
    "[Image segmentation](https://en.wikipedia.org/wiki/Image_segmentation) is the process of partitioning sets of image pixels into groups (e.g. foreground and background). In this module we will explore different image segmentation approaches, including thresholding, edge detection, clustering, and machine learning."
   ]
  },
  {
   "cell_type": "code",
   "execution_count": null,
   "id": "ff87a921-4477-44aa-abae-d505e4a76865",
   "metadata": {},
   "outputs": [],
   "source": [
    "%matplotlib inline\n",
    "import matplotlib\n",
    "from plantcv import plantcv as pcv"
   ]
  },
  {
   "cell_type": "code",
   "execution_count": null,
   "id": "56fabca7-fe1d-4c4f-b997-b229c51f3528",
   "metadata": {},
   "outputs": [],
   "source": [
    "matplotlib.rcParams[\"figure.max_open_warning\"] = False\n",
    "pcv.params.debug = \"plot\"\n",
    "pcv.params.text_size = 30\n",
    "pcv.params.text_thickness = 20\n",
    "pcv.params.line_thickness = 10"
   ]
  },
  {
   "cell_type": "code",
   "execution_count": null,
   "id": "ff111fd4-5479-4971-a92d-ea6b64419b35",
   "metadata": {},
   "outputs": [],
   "source": [
    "pcv.__version__"
   ]
  },
  {
   "cell_type": "code",
   "execution_count": null,
   "id": "41ecb5bb-4af7-4e2f-a82a-e119852c9b83",
   "metadata": {},
   "outputs": [],
   "source": [
    "# Open image file\n"
   ]
  },
  {
   "cell_type": "code",
   "execution_count": null,
   "id": "76877c90-0f67-4ec1-ad01-290f6cf5293c",
   "metadata": {},
   "outputs": [],
   "source": [
    "# Visualize component HSV and LAB color spaces\n"
   ]
  },
  {
   "cell_type": "code",
   "execution_count": null,
   "id": "c478e7a2-0797-4c33-bd40-d6112b25cc7c",
   "metadata": {},
   "outputs": [],
   "source": [
    "# Convert the RGB image into a grayscale image by choosing one of the HSV or LAB channels\n"
   ]
  },
  {
   "cell_type": "code",
   "execution_count": null,
   "id": "a1dcfef7-0f42-4421-b0bd-8422d004a7ff",
   "metadata": {},
   "outputs": [],
   "source": [
    "# Visualize a histogram of the grayscale values to identify signal related to the plant and the background\n"
   ]
  },
  {
   "cell_type": "markdown",
   "id": "ddc6759f-c2e1-425e-ae18-c94d7ff624ba",
   "metadata": {},
   "source": [
    "### Manually set a binary threshold"
   ]
  },
  {
   "cell_type": "code",
   "execution_count": null,
   "id": "884be2a8-3cf2-4174-8b27-81cee1196368",
   "metadata": {},
   "outputs": [],
   "source": [
    "# Use the histogram to set a binary threshold where the plant pixels will be labeled white and the background will be labeled black\n"
   ]
  },
  {
   "cell_type": "markdown",
   "id": "b0c32372-3105-4957-9a5c-cdb9dcf1ddc0",
   "metadata": {},
   "source": [
    "### Automatically set a binary threshold"
   ]
  },
  {
   "cell_type": "code",
   "execution_count": null,
   "id": "695a909f-b5fd-46e3-92e4-edb10c7796f4",
   "metadata": {},
   "outputs": [],
   "source": [
    "# Instead of setting a manual threshold, try an automatic threshold method such as Otsu\n"
   ]
  },
  {
   "cell_type": "markdown",
   "id": "966c5af8-dc08-4f76-971c-c6f68721f5a6",
   "metadata": {},
   "source": [
    "### 3D threshold in RGB colorspace"
   ]
  },
  {
   "cell_type": "code",
   "execution_count": null,
   "id": "f8fe1440-ec0f-449f-9f7b-aba8736d6866",
   "metadata": {},
   "outputs": [],
   "source": [
    "# Visualize a histogram of the RGB values to identify signal related to the plant and the background\n"
   ]
  },
  {
   "cell_type": "code",
   "execution_count": null,
   "id": "f04091a2-a515-4dc3-86a5-0dcf0436cf22",
   "metadata": {},
   "outputs": [],
   "source": [
    "# Plot the input image for selecting RGB values\n"
   ]
  },
  {
   "cell_type": "code",
   "execution_count": null,
   "id": "7d9b9e24-93b8-4bd9-ab1c-d5345d8043e0",
   "metadata": {},
   "outputs": [],
   "source": [
    "# Use the custom_range threshold to segment colors in 3D RGB colorspace\n"
   ]
  },
  {
   "cell_type": "markdown",
   "id": "b1a9a15a-69db-45eb-a097-00ead4f56cb3",
   "metadata": {},
   "source": [
    "### Compare results"
   ]
  },
  {
   "cell_type": "code",
   "execution_count": null,
   "id": "8ab9b6e7-2aa4-453b-be61-efdd5d8f000f",
   "metadata": {},
   "outputs": [],
   "source": []
  },
  {
   "cell_type": "markdown",
   "id": "d1351ce7-e96c-4cfd-b1cd-1065ac0ba3b7",
   "metadata": {},
   "source": []
  }
 ],
 "metadata": {
  "kernelspec": {
   "display_name": "Python [conda env:plantcv] *",
   "language": "python",
   "name": "conda-env-plantcv-py"
  },
  "language_info": {
   "codemirror_mode": {
    "name": "ipython",
    "version": 3
   },
   "file_extension": ".py",
   "mimetype": "text/x-python",
   "name": "python",
   "nbconvert_exporter": "python",
   "pygments_lexer": "ipython3",
   "version": "3.7.10"
  }
 },
 "nbformat": 4,
 "nbformat_minor": 5
}
