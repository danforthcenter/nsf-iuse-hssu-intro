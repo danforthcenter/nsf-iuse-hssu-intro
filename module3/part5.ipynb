{
 "cells": [
  {
   "cell_type": "markdown",
   "id": "349be0f8-3ca8-4dff-9d21-f1a5e804c1bf",
   "metadata": {
    "tags": []
   },
   "source": [
    "# Module 3: Image Segmentation - Part 5: Background Subtraction\n",
    "\n",
    "[Background subtraction](https://plantcv.readthedocs.io/en/stable/background_subtraction/) builds a color model from an image without the subject (e.g. plant) and segments pixels in the foreground image into those that fall within the background model and those that do not. Pixels that fall outside of the background distribution are labeled white."
   ]
  },
  {
   "cell_type": "code",
   "execution_count": null,
   "id": "6cce82c6-17d1-411b-a60c-96ec961c14d7",
   "metadata": {},
   "outputs": [],
   "source": [
    "%matplotlib widget\n",
    "from plantcv import plantcv as pcv"
   ]
  },
  {
   "cell_type": "code",
   "execution_count": null,
   "id": "43d13282-4fe0-4ca6-9294-d586e3f8b7bc",
   "metadata": {},
   "outputs": [],
   "source": [
    "pcv.params.debug = \"plot\""
   ]
  },
  {
   "cell_type": "code",
   "execution_count": null,
   "id": "bc4828f9-8b11-4ddc-81be-1b1542c67e37",
   "metadata": {},
   "outputs": [],
   "source": [
    "pcv.__version__"
   ]
  },
  {
   "cell_type": "code",
   "execution_count": null,
   "id": "a64825c8-823b-43ec-8717-1dd57440df46",
   "metadata": {},
   "outputs": [],
   "source": [
    "# Open the foreground image file\n"
   ]
  },
  {
   "cell_type": "code",
   "execution_count": null,
   "id": "801d37f7-6630-47ad-8496-15638097030e",
   "metadata": {},
   "outputs": [],
   "source": [
    "# Visualize color spaces\n"
   ]
  },
  {
   "cell_type": "code",
   "execution_count": null,
   "id": "01250584-7f32-4f33-9d71-59d5af0e1ee0",
   "metadata": {},
   "outputs": [],
   "source": [
    "# Open the background image file\n"
   ]
  },
  {
   "cell_type": "code",
   "execution_count": null,
   "id": "cadcd5d6-c884-48ef-a540-df42332db404",
   "metadata": {},
   "outputs": [],
   "source": [
    "# Segment the plant roots using background subtraction\n"
   ]
  },
  {
   "cell_type": "code",
   "execution_count": null,
   "id": "f03b5b53-c45a-44b3-87d7-ac250a770732",
   "metadata": {},
   "outputs": [],
   "source": []
  }
 ],
 "metadata": {
  "kernelspec": {
   "display_name": "Python [conda env:plantcv] *",
   "language": "python",
   "name": "conda-env-plantcv-py"
  },
  "language_info": {
   "codemirror_mode": {
    "name": "ipython",
    "version": 3
   },
   "file_extension": ".py",
   "mimetype": "text/x-python",
   "name": "python",
   "nbconvert_exporter": "python",
   "pygments_lexer": "ipython3",
   "version": "3.7.10"
  }
 },
 "nbformat": 4,
 "nbformat_minor": 5
}
