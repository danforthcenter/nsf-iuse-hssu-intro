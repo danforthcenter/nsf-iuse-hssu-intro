{
 "cells": [
  {
   "cell_type": "markdown",
   "id": "d7a8b1f5-a0de-4dfd-829d-427a2fd6fc54",
   "metadata": {},
   "source": [
    "# Module 3: Image Segmentation - Part 3"
   ]
  },
  {
   "cell_type": "code",
   "execution_count": null,
   "id": "a9d3252e-1aa5-4100-8996-4b9d3d9d2c9a",
   "metadata": {},
   "outputs": [],
   "source": [
    "%matplotlib inline\n",
    "import matplotlib\n",
    "from plantcv import plantcv as pcv"
   ]
  },
  {
   "cell_type": "code",
   "execution_count": null,
   "id": "90cd41e2-496c-4e25-adf6-eb9caf4f5b2d",
   "metadata": {},
   "outputs": [],
   "source": [
    "matplotlib.rcParams[\"figure.max_open_warning\"] = False\n",
    "pcv.params.debug = \"plot\"\n",
    "pcv.params.text_size = 30\n",
    "pcv.params.text_thickness = 20\n",
    "pcv.params.line_thickness = 10"
   ]
  },
  {
   "cell_type": "code",
   "execution_count": null,
   "id": "ea3f6e15-5c9f-4e82-952b-4c09b22a0b49",
   "metadata": {},
   "outputs": [],
   "source": [
    "pcv.__version__"
   ]
  },
  {
   "cell_type": "markdown",
   "id": "ed127b52-c031-412b-bccb-b6da37ace9ef",
   "metadata": {},
   "source": [
    "## Naive Bayes (supervised machine learning)\n",
    "\n",
    "To collect training data, download the program [ImageJ](https://imagej.nih.gov/ij/download.html). We will use the tool \"Pixel Inspector\" to collect color values."
   ]
  },
  {
   "cell_type": "code",
   "execution_count": null,
   "id": "50fc89db-c8c0-4756-bfc5-376b9b27d539",
   "metadata": {},
   "outputs": [],
   "source": [
    "# Open image\n"
   ]
  },
  {
   "cell_type": "markdown",
   "id": "5edaa0d8-9730-4648-b096-47b46d6c5bea",
   "metadata": {},
   "source": [
    "In the image we are interested in identifying pixels that belong to four different groups (or classes):\n",
    "\n",
    "`Leaf`: the green parts of the wheat leaves\n",
    "\n",
    "`Pustule`: the red/orange wheat rust infection foci\n",
    "\n",
    "`Chlorosis`: the yellowing around each pustule\n",
    "\n",
    "`Background`: Everything that does not belong to one of the other three categories\n",
    "\n",
    "We will collect RGB values from the image by clicking on examples of each class and organizing the values in a file called `rgb_values.txt` with this format:\n",
    "\n",
    "```\n",
    "#plant\n",
    "96,154,72\t95,153,72\t91,155,71\t91,160,70\t90,155,67\t92,152,66\t92,157,70\n",
    "54,104,39\t56,104,38\t59,106,41\t57,105,43\t54,104,40\t54,103,35\t56,101,39\t58,99,41\t59,99,41\n",
    "#background\n",
    "114,127,121\t117,135,125\t120,137,131\t132,145,138\t142,154,148\t151,166,158\t160,182,172\n",
    "115,125,121\t118,131,123\t122,132,135\t133,142,144\t141,151,152\t150,166,158\t159,179,172\n",
    "```\n",
    "\n",
    "After the table is created we need to reformat it for use in PlantCV using a command-line utility:\n",
    "\n",
    "```bash\n",
    "plantcv-utils.py tabulate_bayes_classes -i rgb_values.txt -o pixel_values.txt\n",
    "\n",
    "```\n",
    "\n",
    "Then we use this table to train the naive Bayes classifier using another command-line utility:\n",
    "\n",
    "```bash\n",
    "plantcv-train.py naive_bayes_multiclass -f pixel_values.txt -o nb_model.txt -p\n",
    "\n",
    "```"
   ]
  },
  {
   "cell_type": "code",
   "execution_count": null,
   "id": "0e70b8f9-3754-4746-9a52-b14460a6f652",
   "metadata": {},
   "outputs": [],
   "source": [
    "# Use the trained model to segment the image\n"
   ]
  },
  {
   "cell_type": "code",
   "execution_count": null,
   "id": "9c21fae6-b133-4956-aad1-b0ceaa88b48b",
   "metadata": {},
   "outputs": [],
   "source": [
    "# Colorize the three foreground classes\n"
   ]
  },
  {
   "cell_type": "code",
   "execution_count": null,
   "id": "a1542d62-8e29-4b4a-89e0-a91a174d0eb5",
   "metadata": {},
   "outputs": [],
   "source": [
    "# Test the model on an unseen image\n"
   ]
  },
  {
   "cell_type": "code",
   "execution_count": null,
   "id": "baec7258-0836-4a01-a906-d65ba8b232bf",
   "metadata": {},
   "outputs": [],
   "source": []
  },
  {
   "cell_type": "code",
   "execution_count": null,
   "id": "571b3a20-9b3a-4b7f-8e03-751992c3d226",
   "metadata": {},
   "outputs": [],
   "source": [
    "# Colorize the three foreground classes\n"
   ]
  },
  {
   "cell_type": "code",
   "execution_count": null,
   "id": "db50060f-a36a-437d-a332-117e40a10047",
   "metadata": {},
   "outputs": [],
   "source": []
  }
 ],
 "metadata": {
  "kernelspec": {
   "display_name": "Python [conda env:plantcv] *",
   "language": "python",
   "name": "conda-env-plantcv-py"
  },
  "language_info": {
   "codemirror_mode": {
    "name": "ipython",
    "version": 3
   },
   "file_extension": ".py",
   "mimetype": "text/x-python",
   "name": "python",
   "nbconvert_exporter": "python",
   "pygments_lexer": "ipython3",
   "version": "3.7.10"
  }
 },
 "nbformat": 4,
 "nbformat_minor": 5
}
