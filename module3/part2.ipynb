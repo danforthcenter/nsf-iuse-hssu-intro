{
 "cells": [
  {
   "cell_type": "markdown",
   "id": "5b38a58a-5cb1-4dad-9162-d999b21017dc",
   "metadata": {},
   "source": [
    "# Module 3: Image Segmentation - Part 2: Edge Detection"
   ]
  },
  {
   "cell_type": "code",
   "execution_count": null,
   "id": "4935a5c8-376a-464f-a2a9-cc970beaa98b",
   "metadata": {},
   "outputs": [],
   "source": [
    "%matplotlib inline\n",
    "import matplotlib\n",
    "from plantcv import plantcv as pcv\n",
    "from skimage import img_as_ubyte\n",
    "from skimage.morphology import disk"
   ]
  },
  {
   "cell_type": "code",
   "execution_count": null,
   "id": "7a282518-ab50-4f85-8669-187fa2af73a1",
   "metadata": {},
   "outputs": [],
   "source": [
    "matplotlib.rcParams[\"figure.max_open_warning\"] = False\n",
    "pcv.params.debug = \"plot\"\n",
    "pcv.params.text_size = 30\n",
    "pcv.params.text_thickness = 20\n",
    "pcv.params.line_thickness = 10"
   ]
  },
  {
   "cell_type": "code",
   "execution_count": null,
   "id": "9c42d821-d837-4de9-9e8f-cb044bbfeeb8",
   "metadata": {},
   "outputs": [],
   "source": [
    "pcv.__version__"
   ]
  },
  {
   "cell_type": "markdown",
   "id": "983675d5-6f6f-4e11-b7da-36f2c0ead947",
   "metadata": {},
   "source": [
    "## Edge detection"
   ]
  },
  {
   "cell_type": "code",
   "execution_count": null,
   "id": "dc3200b3-0f4a-4450-a7d0-eecd3cde739a",
   "metadata": {},
   "outputs": [],
   "source": [
    "# Open image file\n"
   ]
  },
  {
   "cell_type": "markdown",
   "id": "1cb38da5-d417-4414-a1b1-d6e7d0a6ccd3",
   "metadata": {},
   "source": [
    "### Excess Green Index\n",
    "\n",
    "In Part 1 we created a grayscale image for thresholding by using colorspace properties (e.g. RGB, HSV, LAB). Here we will use the [Excess Green vegetation index](https://plantcv.readthedocs.io/en/stable/spectral_index/#egi), which combines RGB information into a single index."
   ]
  },
  {
   "cell_type": "code",
   "execution_count": null,
   "id": "b026c04c-ee64-4fae-bc96-2a377d79c41f",
   "metadata": {},
   "outputs": [],
   "source": [
    "# Use RGB values to calculate the Excess Green Index\n"
   ]
  },
  {
   "cell_type": "code",
   "execution_count": null,
   "id": "c7d7d72d-c4ed-411e-9670-2572a3436a5c",
   "metadata": {},
   "outputs": [],
   "source": [
    "# Use the automatic Otsu threshold method to segment the EGI image\n"
   ]
  },
  {
   "cell_type": "markdown",
   "id": "c2479931-99fd-4494-8ca6-e830fd003a06",
   "metadata": {},
   "source": [
    "### Thresholding the EGI image works well but misses some leaf area\n",
    "\n",
    "Some leaves or parts of leaves are not segmented. In the image we can clearly see the delineation between plant and background, regardless of color, because there is sharp contrast between the darker plant and the bright background. Edge detection can be used to help us detect these transitions"
   ]
  },
  {
   "cell_type": "code",
   "execution_count": null,
   "id": "9b696529-cde2-4d1c-9b34-2edef0b7df97",
   "metadata": {},
   "outputs": [],
   "source": [
    "# Use edge detection to detect outlines in the image\n"
   ]
  },
  {
   "cell_type": "markdown",
   "id": "562c2203-6a53-4ea1-a543-832074dbfc2f",
   "metadata": {},
   "source": [
    "### Combine the thresholded image and edges to create boundaries around the segmented pixels"
   ]
  },
  {
   "cell_type": "code",
   "execution_count": null,
   "id": "a11955c7-ee81-41fd-b517-7105b142ae41",
   "metadata": {},
   "outputs": [],
   "source": [
    "# Combine the edges and binary mask\n"
   ]
  },
  {
   "cell_type": "markdown",
   "id": "f085a84a-793d-4c67-9750-8d4a3e45c2da",
   "metadata": {},
   "source": [
    "### Some leaves have gaps but are bound by the edges, closing these gaps fills in the missing parts"
   ]
  },
  {
   "cell_type": "code",
   "execution_count": null,
   "id": "e4234ef4-e4c2-4b50-b0fb-9d28c52eeb04",
   "metadata": {},
   "outputs": [],
   "source": [
    "# Close holes in the leaves\n"
   ]
  },
  {
   "cell_type": "code",
   "execution_count": null,
   "id": "5108f6d8-f596-4d7e-ab25-fcb11fc6467a",
   "metadata": {},
   "outputs": [],
   "source": []
  }
 ],
 "metadata": {
  "kernelspec": {
   "display_name": "Python [conda env:plantcv] *",
   "language": "python",
   "name": "conda-env-plantcv-py"
  },
  "language_info": {
   "codemirror_mode": {
    "name": "ipython",
    "version": 3
   },
   "file_extension": ".py",
   "mimetype": "text/x-python",
   "name": "python",
   "nbconvert_exporter": "python",
   "pygments_lexer": "ipython3",
   "version": "3.7.10"
  }
 },
 "nbformat": 4,
 "nbformat_minor": 5
}
