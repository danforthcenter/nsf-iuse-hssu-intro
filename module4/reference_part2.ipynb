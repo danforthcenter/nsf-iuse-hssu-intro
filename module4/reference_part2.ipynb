{
 "cells": [
  {
   "cell_type": "markdown",
   "id": "95f804ce-c469-4c30-b182-8777c304ab5e",
   "metadata": {},
   "source": [
    "# Module 4: Measuring plant phenotypes with PlantCV - Multiple plants\n",
    "\n",
    "[PlantCV homepage](https://plantcv.danforthcenter.org/)\n",
    "\n",
    "[PlantCV documentation](https://plantcv.readthedocs.io/en/stable/)"
   ]
  },
  {
   "cell_type": "code",
   "execution_count": null,
   "id": "42f39cce-514e-49bd-a8b4-023bf998f355",
   "metadata": {},
   "outputs": [],
   "source": [
    "%matplotlib widget\n",
    "import matplotlib\n",
    "from plantcv import plantcv as pcv\n",
    "import numpy as np\n",
    "import cv2"
   ]
  },
  {
   "cell_type": "code",
   "execution_count": null,
   "id": "1c05df99-a761-4823-9bf7-fcb9d2809db3",
   "metadata": {},
   "outputs": [],
   "source": [
    "matplotlib.rcParams[\"figure.max_open_warning\"] = False\n",
    "pcv.params.debug = \"plot\"\n",
    "pcv.params.text_size = 10\n",
    "pcv.params.text_thickness = 10\n",
    "pcv.params.line_thickness = 10"
   ]
  },
  {
   "cell_type": "code",
   "execution_count": null,
   "id": "f549c0ac-c129-48d4-9eaa-c9a62413d29a",
   "metadata": {},
   "outputs": [],
   "source": [
    "pcv.__version__"
   ]
  },
  {
   "cell_type": "markdown",
   "id": "8720e3b7-9f5e-484b-ac36-4cc167d03f42",
   "metadata": {},
   "source": [
    " ## Refresher: plant segmentation"
   ]
  },
  {
   "cell_type": "code",
   "execution_count": null,
   "id": "4d8e8899-8abf-4ea7-a67a-c6da147cb43d",
   "metadata": {},
   "outputs": [],
   "source": [
    "# Open image file\n",
    "img, imgpath, imgname = pcv.readimage(filename=\"images/10.9.1.244_pos-165-002-009_2020-02-29-20-05.jpg\")"
   ]
  },
  {
   "cell_type": "code",
   "execution_count": null,
   "id": "b7a4df15-03c3-4865-9f31-e0dbe4a17260",
   "metadata": {},
   "outputs": [],
   "source": [
    "# Convert the RGB image into a grayscale image by choosing one of the HSV or LAB channels\n",
    "gray_img = pcv.rgb2gray_lab(rgb_img=img, channel=\"a\")"
   ]
  },
  {
   "cell_type": "code",
   "execution_count": null,
   "id": "5c658ee5-dce1-4f51-ab63-70def27d62cc",
   "metadata": {},
   "outputs": [],
   "source": [
    "# Instead of setting a manual threshold, try an automatic threshold method such as Otsu\n",
    "bin_img = pcv.threshold.otsu(gray_img=gray_img, max_value=255, object_type=\"dark\")"
   ]
  },
  {
   "cell_type": "code",
   "execution_count": null,
   "id": "ad13a54d-cc99-401f-a814-18c8371df52c",
   "metadata": {},
   "outputs": [],
   "source": [
    "# Remove \"salt\" noise from the binary image\n",
    "filter_bin = pcv.fill(bin_img=bin_img, size=100)"
   ]
  },
  {
   "cell_type": "markdown",
   "id": "caacce5b-7540-439e-aa38-80de40479399",
   "metadata": {},
   "source": [
    "## Measuring the shape and color of objects in digital image\n",
    "\n",
    "At this stage we have a binary mask that labels plant pixels (white) and background pixels (black). There are multiple plants but we cannot tell which pixels belong to each plant"
   ]
  },
  {
   "cell_type": "code",
   "execution_count": null,
   "id": "6b5296fd-e87a-4abd-abfa-715b203bfb30",
   "metadata": {},
   "outputs": [],
   "source": [
    "# Identify connected components (contours) using the binary image\n",
    "cnt, cnt_str = pcv.find_objects(img=img, mask=filter_bin)"
   ]
  },
  {
   "cell_type": "code",
   "execution_count": null,
   "id": "ca35f647-7671-40e6-99c1-b16ee985cbac",
   "metadata": {},
   "outputs": [],
   "source": [
    "# Plot each contour to see where they are\n",
    "pcv.params.color_sequence = \"random\"\n",
    "cp = img.copy()\n",
    "for i in range(0, len(cnt)):\n",
    "    cv2.drawContours(cp, cnt, i, pcv.color_palette(num=100, saved=False)[0], thickness=-1, hierarchy=cnt_str)\n",
    "pcv.plot_image(cp)"
   ]
  },
  {
   "cell_type": "markdown",
   "id": "d8257447-a8de-4966-9086-d98d5adeee1a",
   "metadata": {},
   "source": [
    "We have distinct contours for each plant and some (most) plants are composed of multiple contours, how do we assign these to individual plants?"
   ]
  },
  {
   "cell_type": "code",
   "execution_count": null,
   "id": "d02e203d-90e3-4ca8-9ab0-ba76ada3d24a",
   "metadata": {},
   "outputs": [],
   "source": [
    "# Create a region of interest (ROI) for one plant\n",
    "roi, roi_str = pcv.roi.circle(img=img, x=1460, y=1400, r=100)"
   ]
  },
  {
   "cell_type": "code",
   "execution_count": null,
   "id": "c6f92bcc-8852-4656-97ed-2b9c184426ee",
   "metadata": {},
   "outputs": [],
   "source": [
    "# Filter the contours using the ROI\n",
    "plant_cnt, plant_str, plant_mask, plant_area = pcv.roi_objects(img=img, roi_contour=roi, roi_hierarchy=roi_str, object_contour=cnt, obj_hierarchy=cnt_str)"
   ]
  },
  {
   "cell_type": "code",
   "execution_count": null,
   "id": "417d7fac-3f8d-4ea1-b731-d371dbea0e7d",
   "metadata": {},
   "outputs": [],
   "source": [
    "# Flatten contours into a single object\n",
    "# Combine the contours into a single plant object\n",
    "plant, mask = pcv.object_composition(img=img, contours=plant_cnt, hierarchy=plant_str)"
   ]
  },
  {
   "cell_type": "code",
   "execution_count": null,
   "id": "f024db5f-39a8-4869-bf44-245f072686ac",
   "metadata": {},
   "outputs": [],
   "source": [
    "# Measure the size and shape of the plant\n",
    "shape_img = pcv.analyze_object(img=img, obj=plant, mask=mask)"
   ]
  },
  {
   "cell_type": "code",
   "execution_count": null,
   "id": "6357d541-6afd-47dd-afe0-465f6034fa32",
   "metadata": {},
   "outputs": [],
   "source": [
    "# Output measurements\n",
    "print(f\"Leaf area = {pcv.outputs.observations['default']['area']['value']} pixels\")\n",
    "print(f\"Convex hull area = {pcv.outputs.observations['default']['convex_hull_area']['value']} pixels\")\n",
    "print(f\"Solidity = {pcv.outputs.observations['default']['solidity']['value']}\")\n",
    "print(f\"Perimeter = {pcv.outputs.observations['default']['perimeter']['value']} pixels\")\n",
    "print(f\"Width = {pcv.outputs.observations['default']['width']['value']} pixels\")\n",
    "print(f\"Height = {pcv.outputs.observations['default']['height']['value']} pixels\")\n",
    "print(f\"Center of mass = {pcv.outputs.observations['default']['center_of_mass']['value']}\")\n",
    "print(f\"Convex hull vertices = {pcv.outputs.observations['default']['convex_hull_vertices']['value']}\")\n",
    "print(f\"Plant in frame = {pcv.outputs.observations['default']['object_in_frame']['value']}\")\n",
    "print(f\"Bounding ellipse center = {pcv.outputs.observations['default']['ellipse_center']['value']}\")\n",
    "print(f\"Bounding ellipse center major axis length = {pcv.outputs.observations['default']['ellipse_major_axis']['value']} pixels\")\n",
    "print(f\"Bounding ellipse center minor axis length = {pcv.outputs.observations['default']['ellipse_minor_axis']['value']} pixels\")\n",
    "print(f\"Bounding ellipse angle of rotation = {pcv.outputs.observations['default']['ellipse_angle']['value']} degrees\")\n",
    "print(f\"Bounding ellipse eccentricity = {pcv.outputs.observations['default']['ellipse_eccentricity']['value']}\")"
   ]
  },
  {
   "cell_type": "code",
   "execution_count": null,
   "id": "66d426a6-6fb7-4e8c-bfa2-32cb4f7374a6",
   "metadata": {},
   "outputs": [],
   "source": [
    "# Measure the color properties of the plant\n",
    "color_hist = pcv.analyze_color(rgb_img=img, mask=mask, colorspaces=\"hsv\")"
   ]
  },
  {
   "cell_type": "markdown",
   "id": "a802d74a-bc6b-47e3-a61f-712f4f445edf",
   "metadata": {},
   "source": [
    "![HSV color model](https://upload.wikimedia.org/wikipedia/commons/thumb/a/a0/Hsl-hsv_models.svg/600px-Hsl-hsv_models.svg.png)"
   ]
  },
  {
   "cell_type": "code",
   "execution_count": null,
   "id": "06644f39-88ed-4ef2-8dbf-af5c6430f97d",
   "metadata": {},
   "outputs": [],
   "source": [
    "# Output measurements\n",
    "print(f\"Hue circular mean = {pcv.outputs.observations['default']['hue_circular_mean']['value']} degrees\")\n",
    "print(f\"Hue circular mean standard deviation = {pcv.outputs.observations['default']['hue_circular_std']['value']} degrees\")\n",
    "print(f\"Hue median = {pcv.outputs.observations['default']['hue_median']['value']} degrees\")"
   ]
  },
  {
   "cell_type": "code",
   "execution_count": null,
   "id": "de0951fb-006a-4e75-a02d-6178088302f9",
   "metadata": {},
   "outputs": [],
   "source": []
  }
 ],
 "metadata": {
  "kernelspec": {
   "display_name": "Python [conda env:plantcv] *",
   "language": "python",
   "name": "conda-env-plantcv-py"
  },
  "language_info": {
   "codemirror_mode": {
    "name": "ipython",
    "version": 3
   },
   "file_extension": ".py",
   "mimetype": "text/x-python",
   "name": "python",
   "nbconvert_exporter": "python",
   "pygments_lexer": "ipython3",
   "version": "3.9.7"
  }
 },
 "nbformat": 4,
 "nbformat_minor": 5
}
