{
 "cells": [
  {
   "cell_type": "markdown",
   "id": "95f804ce-c469-4c30-b182-8777c304ab5e",
   "metadata": {},
   "source": [
    "# Module 4: Measuring plant phenotypes with PlantCV - Single plant\n",
    "\n",
    "[PlantCV homepage](https://plantcv.danforthcenter.org/)\n",
    "\n",
    "[PlantCV documentation](https://plantcv.readthedocs.io/en/stable/)"
   ]
  },
  {
   "cell_type": "code",
   "execution_count": null,
   "id": "42f39cce-514e-49bd-a8b4-023bf998f355",
   "metadata": {},
   "outputs": [],
   "source": [
    "%matplotlib widget\n",
    "import matplotlib\n",
    "from plantcv import plantcv as pcv\n",
    "import numpy as np\n",
    "import cv2"
   ]
  },
  {
   "cell_type": "code",
   "execution_count": null,
   "id": "1c05df99-a761-4823-9bf7-fcb9d2809db3",
   "metadata": {},
   "outputs": [],
   "source": [
    "matplotlib.rcParams[\"figure.max_open_warning\"] = False\n",
    "pcv.params.debug = \"plot\"\n",
    "pcv.params.text_size = 10\n",
    "pcv.params.text_thickness = 10\n",
    "pcv.params.line_thickness = 10"
   ]
  },
  {
   "cell_type": "code",
   "execution_count": null,
   "id": "f549c0ac-c129-48d4-9eaa-c9a62413d29a",
   "metadata": {},
   "outputs": [],
   "source": [
    "pcv.__version__"
   ]
  },
  {
   "cell_type": "markdown",
   "id": "8720e3b7-9f5e-484b-ac36-4cc167d03f42",
   "metadata": {},
   "source": [
    " ## Refresher: plant segmentation"
   ]
  },
  {
   "cell_type": "code",
   "execution_count": null,
   "id": "4d8e8899-8abf-4ea7-a67a-c6da147cb43d",
   "metadata": {},
   "outputs": [],
   "source": [
    "# Open image file\n",
    "img, imgpath, imgname = pcv.readimage(filename=\"images/cropped_plant.png\")"
   ]
  },
  {
   "cell_type": "code",
   "execution_count": null,
   "id": "b7a4df15-03c3-4865-9f31-e0dbe4a17260",
   "metadata": {},
   "outputs": [],
   "source": [
    "# Convert the RGB image into a grayscale image by choosing one of the HSV or LAB channels\n",
    "gray_img = pcv.rgb2gray_lab(rgb_img=img, channel=\"a\")"
   ]
  },
  {
   "cell_type": "code",
   "execution_count": null,
   "id": "5c658ee5-dce1-4f51-ab63-70def27d62cc",
   "metadata": {},
   "outputs": [],
   "source": [
    "# Instead of setting a manual threshold, try an automatic threshold method such as Otsu\n",
    "bin_img = pcv.threshold.otsu(gray_img=gray_img, max_value=255, object_type=\"dark\")"
   ]
  },
  {
   "cell_type": "code",
   "execution_count": null,
   "id": "ad13a54d-cc99-401f-a814-18c8371df52c",
   "metadata": {},
   "outputs": [],
   "source": [
    "# Remove \"salt\" noise from the binary image\n",
    "filter_bin = pcv.fill(bin_img=bin_img, size=100)"
   ]
  },
  {
   "cell_type": "markdown",
   "id": "caacce5b-7540-439e-aa38-80de40479399",
   "metadata": {},
   "source": [
    "## Measuring the shape and color of objects in digital image\n",
    "\n",
    "At this stage we have a binary mask that labels plant pixels (white) and background pixels (black). What can this tell us (and not tell us) about the plant?"
   ]
  },
  {
   "cell_type": "code",
   "execution_count": null,
   "id": "64f8a519-6fca-4fa0-ac12-3980b1e6cfb3",
   "metadata": {},
   "outputs": [],
   "source": [
    "# What is the size of the image?\n"
   ]
  },
  {
   "cell_type": "code",
   "execution_count": null,
   "id": "41e4ab55-30c6-4009-a1b0-ddc10faf4106",
   "metadata": {},
   "outputs": [],
   "source": [
    "# What is the total area of the plant?\n"
   ]
  },
  {
   "cell_type": "code",
   "execution_count": null,
   "id": "ad402673-38ab-4c46-984c-b46078b8f53a",
   "metadata": {},
   "outputs": [],
   "source": [
    "# What is the proportion of the image the plant occupies?\n"
   ]
  },
  {
   "cell_type": "markdown",
   "id": "7b18e476-e093-434d-a4a7-51aff2e5d7d3",
   "metadata": {},
   "source": [
    "There are properties of the shape of the plant that the binary mask cannot be used to measure directly"
   ]
  },
  {
   "cell_type": "code",
   "execution_count": null,
   "id": "9709505f-9c73-4a96-9967-5655b9d98914",
   "metadata": {},
   "outputs": [],
   "source": [
    "# Shuffle the binary mask values\n"
   ]
  },
  {
   "cell_type": "code",
   "execution_count": null,
   "id": "160c2032-0573-4f8d-a543-6c90dac6d969",
   "metadata": {},
   "outputs": [],
   "source": [
    "# What is the size of the plant if we do the same measurements again?\n"
   ]
  },
  {
   "cell_type": "markdown",
   "id": "4f48919f-fe0d-4f5b-978f-0cc692f4517b",
   "metadata": {},
   "source": [
    "What does this mean?\n",
    "\n",
    "While the binary mask can give us information about the size of the plant, it does not contain information about the shape or layout of the plant.\n",
    "\n",
    "Instead we can convert the binary mask into polygons that allow us to measure shapes. OpenCV contours: https://docs.opencv.org/4.5.5/dd/d49/tutorial_py_contour_features.html"
   ]
  },
  {
   "cell_type": "code",
   "execution_count": null,
   "id": "6b5296fd-e87a-4abd-abfa-715b203bfb30",
   "metadata": {},
   "outputs": [],
   "source": [
    "# Identify connected components (contours) using the binary image\n"
   ]
  },
  {
   "cell_type": "code",
   "execution_count": null,
   "id": "ca35f647-7671-40e6-99c1-b16ee985cbac",
   "metadata": {},
   "outputs": [],
   "source": [
    "# Plot each contour to see where they are\n"
   ]
  },
  {
   "cell_type": "code",
   "execution_count": null,
   "id": "417d7fac-3f8d-4ea1-b731-d371dbea0e7d",
   "metadata": {},
   "outputs": [],
   "source": [
    "# Flatten contours into a single object\n"
   ]
  },
  {
   "cell_type": "code",
   "execution_count": null,
   "id": "f024db5f-39a8-4869-bf44-245f072686ac",
   "metadata": {},
   "outputs": [],
   "source": [
    "# Measure the size and shape of the plant\n"
   ]
  },
  {
   "cell_type": "code",
   "execution_count": null,
   "id": "6357d541-6afd-47dd-afe0-465f6034fa32",
   "metadata": {},
   "outputs": [],
   "source": [
    "# Output measurements\n",
    "print(f\"Leaf area = {pcv.outputs.observations['default']['area']['value']} pixels\")\n",
    "print(f\"Convex hull area = {pcv.outputs.observations['default']['convex_hull_area']['value']} pixels\")\n",
    "print(f\"Solidity = {pcv.outputs.observations['default']['solidity']['value']}\")\n",
    "print(f\"Perimeter = {pcv.outputs.observations['default']['perimeter']['value']} pixels\")\n",
    "print(f\"Width = {pcv.outputs.observations['default']['width']['value']} pixels\")\n",
    "print(f\"Height = {pcv.outputs.observations['default']['height']['value']} pixels\")\n",
    "print(f\"Center of mass = {pcv.outputs.observations['default']['center_of_mass']['value']}\")\n",
    "print(f\"Convex hull vertices = {pcv.outputs.observations['default']['convex_hull_vertices']['value']}\")\n",
    "print(f\"Plant in frame = {pcv.outputs.observations['default']['object_in_frame']['value']}\")\n",
    "print(f\"Bounding ellipse center = {pcv.outputs.observations['default']['ellipse_center']['value']}\")\n",
    "print(f\"Bounding ellipse center major axis length = {pcv.outputs.observations['default']['ellipse_major_axis']['value']} pixels\")\n",
    "print(f\"Bounding ellipse center minor axis length = {pcv.outputs.observations['default']['ellipse_minor_axis']['value']} pixels\")\n",
    "print(f\"Bounding ellipse angle of rotation = {pcv.outputs.observations['default']['ellipse_angle']['value']} degrees\")\n",
    "print(f\"Bounding ellipse eccentricity = {pcv.outputs.observations['default']['ellipse_eccentricity']['value']}\")"
   ]
  },
  {
   "cell_type": "code",
   "execution_count": null,
   "id": "66d426a6-6fb7-4e8c-bfa2-32cb4f7374a6",
   "metadata": {},
   "outputs": [],
   "source": [
    "# Measure the color properties of the plant\n"
   ]
  },
  {
   "cell_type": "markdown",
   "id": "a802d74a-bc6b-47e3-a61f-712f4f445edf",
   "metadata": {},
   "source": [
    "![HSV color model](https://upload.wikimedia.org/wikipedia/commons/thumb/a/a0/Hsl-hsv_models.svg/600px-Hsl-hsv_models.svg.png)"
   ]
  },
  {
   "cell_type": "code",
   "execution_count": null,
   "id": "06644f39-88ed-4ef2-8dbf-af5c6430f97d",
   "metadata": {},
   "outputs": [],
   "source": [
    "# Output measurements\n",
    "print(f\"Hue circular mean = {pcv.outputs.observations['default']['hue_circular_mean']['value']} degrees\")\n",
    "print(f\"Hue circular mean standard deviation = {pcv.outputs.observations['default']['hue_circular_std']['value']} degrees\")\n",
    "print(f\"Hue median = {pcv.outputs.observations['default']['hue_median']['value']} degrees\")"
   ]
  },
  {
   "cell_type": "code",
   "execution_count": null,
   "id": "de0951fb-006a-4e75-a02d-6178088302f9",
   "metadata": {},
   "outputs": [],
   "source": []
  }
 ],
 "metadata": {
  "kernelspec": {
   "display_name": "Python [conda env:plantcv] *",
   "language": "python",
   "name": "conda-env-plantcv-py"
  },
  "language_info": {
   "codemirror_mode": {
    "name": "ipython",
    "version": 3
   },
   "file_extension": ".py",
   "mimetype": "text/x-python",
   "name": "python",
   "nbconvert_exporter": "python",
   "pygments_lexer": "ipython3",
   "version": "3.9.7"
  }
 },
 "nbformat": 4,
 "nbformat_minor": 5
}
