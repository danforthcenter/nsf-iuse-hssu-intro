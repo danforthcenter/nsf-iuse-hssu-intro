{
 "cells": [
  {
   "cell_type": "code",
   "execution_count": 1,
   "id": "98119bf2-78f7-4349-8b62-fe61bb43ca08",
   "metadata": {},
   "outputs": [],
   "source": [
    "%matplotlib widget\n",
    "import matplotlib\n",
    "from plantcv import plantcv as pcv"
   ]
  },
  {
   "cell_type": "code",
   "execution_count": 2,
   "id": "d02b69b7-9761-4fd6-85b3-f0b6bc80ab62",
   "metadata": {},
   "outputs": [],
   "source": [
    "matplotlib.rcParams[\"figure.max_open_warning\"] = False\n",
    "pcv.params.debug = \"plot\"\n",
    "pcv.params.text_size=5\n",
    "pcv.params.text_thickness=10\n",
    "pcv.params.line_thickness = 10"
   ]
  },
  {
   "cell_type": "code",
   "execution_count": 3,
   "id": "57a6a889-0464-4ba8-80d7-649f6ee5b33f",
   "metadata": {},
   "outputs": [
    {
     "data": {
      "text/plain": [
       "'3.13.0+72.gf0b4a245'"
      ]
     },
     "execution_count": 3,
     "metadata": {},
     "output_type": "execute_result"
    }
   ],
   "source": [
    "pcv.__version__"
   ]
  },
  {
   "cell_type": "code",
   "execution_count": 4,
   "id": "4be9422b-26c3-4a80-98af-84574338ddad",
   "metadata": {},
   "outputs": [
    {
     "data": {
      "application/vnd.jupyter.widget-view+json": {
       "model_id": "54d4264115094fdaa2e22b0373707b46",
       "version_major": 2,
       "version_minor": 0
      },
      "text/plain": [
       "Canvas(toolbar=Toolbar(toolitems=[('Home', 'Reset original view', 'home', 'home'), ('Back', 'Back to previous …"
      ]
     },
     "metadata": {},
     "output_type": "display_data"
    }
   ],
   "source": [
    "# Open image file\n",
    "img, imgpath, imgname = pcv.readimage(filename=\"cropped_plant.png\")"
   ]
  },
  {
   "cell_type": "markdown",
   "id": "64c0ff79-19d7-4777-9ca6-1a55f1f0c22b",
   "metadata": {},
   "source": [
    "Color information can be represented using different models, or [color spaces](https://en.wikipedia.org/wiki/Color_space). Typical color images use an additive [RGB color model](https://en.wikipedia.org/wiki/RGB_color_model):\n",
    "\n",
    "![RGB color model](https://upload.wikimedia.org/wikipedia/commons/thumb/c/c2/AdditiveColor.svg/240px-AdditiveColor.svg.png)\n",
    "\n",
    "In printing, the subtractive [CMYK model](https://en.wikipedia.org/wiki/CMYK_color_model) is more typical:\n",
    "\n",
    "![CMYK color model](https://upload.wikimedia.org/wikipedia/commons/thumb/c/c9/CMYK_subtractive_color_mixing.svg/240px-CMYK_subtractive_color_mixing.svg.png)\n",
    "\n",
    "For image analysis and visual perception of color properties, other color models such as [Hue, Saturation, and Value (HSV)](https://en.wikipedia.org/wiki/HSL_and_HSV)\n",
    "or [CIELAB (LAB)](https://en.wikipedia.org/wiki/CIELAB_color_space) have advantages over RGB.\n",
    "\n",
    "![HSV color model](https://upload.wikimedia.org/wikipedia/commons/thumb/a/a0/Hsl-hsv_models.svg/240px-Hsl-hsv_models.svg.png)\n",
    "\n",
    "![LAB color model](https://upload.wikimedia.org/wikipedia/commons/thumb/3/33/Visible_gamut_within_CIELAB_color_space_D65_whitepoint_mesh.png/240px-Visible_gamut_within_CIELAB_color_space_D65_whitepoint_mesh.png)"
   ]
  },
  {
   "cell_type": "code",
   "execution_count": 5,
   "id": "0a3e926e-c70f-4029-90fd-997f0511c062",
   "metadata": {},
   "outputs": [
    {
     "data": {
      "application/vnd.jupyter.widget-view+json": {
       "model_id": "64d0bf3bf1f043ca877088bc4ed8f0ed",
       "version_major": 2,
       "version_minor": 0
      },
      "text/plain": [
       "Canvas(toolbar=Toolbar(toolitems=[('Home', 'Reset original view', 'home', 'home'), ('Back', 'Back to previous …"
      ]
     },
     "metadata": {},
     "output_type": "display_data"
    }
   ],
   "source": [
    "# Visualize component HSV and LAB color spaces\n",
    "cs = pcv.visualize.colorspaces(rgb_img=img, original_img=False)"
   ]
  },
  {
   "cell_type": "code",
   "execution_count": 6,
   "id": "a671ec84-071d-4f58-be86-705a68b6adaa",
   "metadata": {},
   "outputs": [
    {
     "data": {
      "application/vnd.jupyter.widget-view+json": {
       "model_id": "4bcc40f0a8d54df79f58da7451c96e04",
       "version_major": 2,
       "version_minor": 0
      },
      "text/plain": [
       "Canvas(toolbar=Toolbar(toolitems=[('Home', 'Reset original view', 'home', 'home'), ('Back', 'Back to previous …"
      ]
     },
     "metadata": {},
     "output_type": "display_data"
    }
   ],
   "source": [
    "# Convert the RGB image into a grayscale image by choosing one of the HSV or LAB channels\n",
    "gray_img = pcv.rgb2gray_lab(rgb_img=img, channel=\"a\")"
   ]
  },
  {
   "cell_type": "code",
   "execution_count": 7,
   "id": "57865a97-cb1c-44ce-97e3-b5afa18145af",
   "metadata": {},
   "outputs": [
    {
     "data": {
      "application/vnd.jupyter.widget-view+json": {
       "model_id": "83bd3ca406f343ca87e8adb808cc58d5",
       "version_major": 2,
       "version_minor": 0
      },
      "text/plain": [
       "Canvas(toolbar=Toolbar(toolitems=[('Home', 'Reset original view', 'home', 'home'), ('Back', 'Back to previous …"
      ]
     },
     "metadata": {},
     "output_type": "display_data"
    },
    {
     "name": "stdout",
     "output_type": "stream",
     "text": [
      "\n"
     ]
    }
   ],
   "source": [
    "# Visualize a histogram of the grayscale values to identify signal related to the plant and the background\n",
    "hist = pcv.visualize.histogram(img=gray_img, bins=30)"
   ]
  },
  {
   "cell_type": "code",
   "execution_count": 8,
   "id": "de6823f7-d89b-4ec8-9e37-b44a9bbc6315",
   "metadata": {},
   "outputs": [
    {
     "data": {
      "application/vnd.jupyter.widget-view+json": {
       "model_id": "9a2a0b9d094e435a95eeda47b79a2868",
       "version_major": 2,
       "version_minor": 0
      },
      "text/plain": [
       "Canvas(toolbar=Toolbar(toolitems=[('Home', 'Reset original view', 'home', 'home'), ('Back', 'Back to previous …"
      ]
     },
     "metadata": {},
     "output_type": "display_data"
    }
   ],
   "source": [
    "# Use the histogram to set a binary threshold where the plant pixels will be labeled white and the background will be labeled black\n",
    "bin_img = pcv.threshold.binary(gray_img=gray_img, threshold=100, max_value=255, object_type=\"dark\")"
   ]
  },
  {
   "cell_type": "code",
   "execution_count": 9,
   "id": "00c052f5-e414-4641-ab25-a5ea85dac245",
   "metadata": {},
   "outputs": [
    {
     "data": {
      "application/vnd.jupyter.widget-view+json": {
       "model_id": "2cb03fc9bb9b4d85bdcf1730f66ec51f",
       "version_major": 2,
       "version_minor": 0
      },
      "text/plain": [
       "Canvas(toolbar=Toolbar(toolitems=[('Home', 'Reset original view', 'home', 'home'), ('Back', 'Back to previous …"
      ]
     },
     "metadata": {},
     "output_type": "display_data"
    }
   ],
   "source": [
    "# Instead of setting a manual threshold, try an automatic threshold method such as Otsu\n",
    "bin_img = pcv.threshold.otsu(gray_img=gray_img, max_value=255, object_type=\"dark\")"
   ]
  },
  {
   "cell_type": "code",
   "execution_count": 10,
   "id": "3c56f528-99a3-491d-926f-264a0d621383",
   "metadata": {},
   "outputs": [
    {
     "data": {
      "application/vnd.jupyter.widget-view+json": {
       "model_id": "63e4954458e34237aafd84086e98c650",
       "version_major": 2,
       "version_minor": 0
      },
      "text/plain": [
       "Canvas(toolbar=Toolbar(toolitems=[('Home', 'Reset original view', 'home', 'home'), ('Back', 'Back to previous …"
      ]
     },
     "metadata": {},
     "output_type": "display_data"
    }
   ],
   "source": [
    "# Remove \"salt\" noise from the binary image\n",
    "filter_bin = pcv.fill(bin_img=bin_img, size=100)"
   ]
  },
  {
   "cell_type": "code",
   "execution_count": 11,
   "id": "71853d78-76d8-4a8f-9fb0-530594f67c0b",
   "metadata": {},
   "outputs": [
    {
     "data": {
      "application/vnd.jupyter.widget-view+json": {
       "model_id": "792dfac8b4a44e4eae6ab6af57957384",
       "version_major": 2,
       "version_minor": 0
      },
      "text/plain": [
       "Canvas(toolbar=Toolbar(toolitems=[('Home', 'Reset original view', 'home', 'home'), ('Back', 'Back to previous …"
      ]
     },
     "metadata": {},
     "output_type": "display_data"
    }
   ],
   "source": [
    "# Define a region of interest (ROI) where we expect to find a plant\n",
    "roi, roi_str = pcv.roi.circle(img=img, x=222, y=244, r=150)"
   ]
  },
  {
   "cell_type": "code",
   "execution_count": 12,
   "id": "c3b2210d-f155-4261-9291-c484c29d6486",
   "metadata": {},
   "outputs": [
    {
     "data": {
      "application/vnd.jupyter.widget-view+json": {
       "model_id": "621e1ad5a6744c5480a25c1772bc3334",
       "version_major": 2,
       "version_minor": 0
      },
      "text/plain": [
       "Canvas(toolbar=Toolbar(toolitems=[('Home', 'Reset original view', 'home', 'home'), ('Back', 'Back to previous …"
      ]
     },
     "metadata": {},
     "output_type": "display_data"
    }
   ],
   "source": [
    "# Identify connected components (contours) using the binary image\n",
    "cnt, cnt_str = pcv.find_objects(img=img, mask=filter_bin)"
   ]
  },
  {
   "cell_type": "code",
   "execution_count": 13,
   "id": "2fa8c599-e8a0-4f2d-b33f-3aae0e293b58",
   "metadata": {},
   "outputs": [
    {
     "data": {
      "application/vnd.jupyter.widget-view+json": {
       "model_id": "9bf97405ac7346158b10a4aceabd3a1a",
       "version_major": 2,
       "version_minor": 0
      },
      "text/plain": [
       "Canvas(toolbar=Toolbar(toolitems=[('Home', 'Reset original view', 'home', 'home'), ('Back', 'Back to previous …"
      ]
     },
     "metadata": {},
     "output_type": "display_data"
    },
    {
     "data": {
      "application/vnd.jupyter.widget-view+json": {
       "model_id": "a4c9506931b141a7a5eaacf69d58797c",
       "version_major": 2,
       "version_minor": 0
      },
      "text/plain": [
       "Canvas(toolbar=Toolbar(toolitems=[('Home', 'Reset original view', 'home', 'home'), ('Back', 'Back to previous …"
      ]
     },
     "metadata": {},
     "output_type": "display_data"
    }
   ],
   "source": [
    "# Use the ROI and the contours to filter the contours based on overlap with the ROI\n",
    "obj, obj_str, obj_mask, obj_area = pcv.roi_objects(img=img, roi_contour=roi, roi_hierarchy=roi_str, object_contour=cnt, obj_hierarchy=cnt_str)"
   ]
  },
  {
   "cell_type": "code",
   "execution_count": 14,
   "id": "1d390caf-b7f2-411a-901b-e9ff7aa30e41",
   "metadata": {},
   "outputs": [
    {
     "data": {
      "application/vnd.jupyter.widget-view+json": {
       "model_id": "13a3437a77794588886eb9f3ecbdc673",
       "version_major": 2,
       "version_minor": 0
      },
      "text/plain": [
       "Canvas(toolbar=Toolbar(toolitems=[('Home', 'Reset original view', 'home', 'home'), ('Back', 'Back to previous …"
      ]
     },
     "metadata": {},
     "output_type": "display_data"
    },
    {
     "data": {
      "application/vnd.jupyter.widget-view+json": {
       "model_id": "8977ce0d96ba4c93aeb3578b9a74e358",
       "version_major": 2,
       "version_minor": 0
      },
      "text/plain": [
       "Canvas(toolbar=Toolbar(toolitems=[('Home', 'Reset original view', 'home', 'home'), ('Back', 'Back to previous …"
      ]
     },
     "metadata": {},
     "output_type": "display_data"
    }
   ],
   "source": [
    "# Combine the contours into a single plant object\n",
    "plant, mask = pcv.object_composition(img=img, contours=obj, hierarchy=obj_str)"
   ]
  },
  {
   "cell_type": "code",
   "execution_count": 15,
   "id": "1e7ac779-c911-4486-8d24-8ba4ad834203",
   "metadata": {},
   "outputs": [
    {
     "data": {
      "application/vnd.jupyter.widget-view+json": {
       "model_id": "bbb16b7a66a94b0481ebd4e3e41a6c54",
       "version_major": 2,
       "version_minor": 0
      },
      "text/plain": [
       "Canvas(toolbar=Toolbar(toolitems=[('Home', 'Reset original view', 'home', 'home'), ('Back', 'Back to previous …"
      ]
     },
     "metadata": {},
     "output_type": "display_data"
    }
   ],
   "source": [
    "# Measure the size and shape of the plant\n",
    "shape_img = pcv.analyze_object(img=img, obj=plant, mask=mask, label=\"plant1\")"
   ]
  },
  {
   "cell_type": "code",
   "execution_count": 16,
   "id": "efe75fe9-85b8-4490-8a9b-5e5ad91e1265",
   "metadata": {},
   "outputs": [
    {
     "data": {
      "application/vnd.jupyter.widget-view+json": {
       "model_id": "e0608b0dac8b46f09361af9be1c1f862",
       "version_major": 2,
       "version_minor": 0
      },
      "text/plain": [
       "Canvas(toolbar=Toolbar(toolitems=[('Home', 'Reset original view', 'home', 'home'), ('Back', 'Back to previous …"
      ]
     },
     "metadata": {},
     "output_type": "display_data"
    },
    {
     "name": "stdout",
     "output_type": "stream",
     "text": [
      "\n"
     ]
    }
   ],
   "source": [
    "# Measure the color properties of the plant\n",
    "color_hist = pcv.analyze_color(rgb_img=img, mask=mask, colorspaces=\"hsv\", label=\"plant1\")"
   ]
  },
  {
   "cell_type": "code",
   "execution_count": 17,
   "id": "20a41a98-f2cc-4178-b249-ba67a4f2f0c7",
   "metadata": {},
   "outputs": [],
   "source": [
    "# Save the measurements to a comma-separated value (CSV) file\n",
    "pcv.outputs.save_results(filename=\"plant1_results.csv\", outformat=\"csv\")"
   ]
  },
  {
   "cell_type": "code",
   "execution_count": null,
   "id": "06779e1d-fdd8-42d0-8445-a02fcc716c2d",
   "metadata": {},
   "outputs": [],
   "source": []
  }
 ],
 "metadata": {
  "kernelspec": {
   "display_name": "Python [conda env:plantcv] *",
   "language": "python",
   "name": "conda-env-plantcv-py"
  },
  "language_info": {
   "codemirror_mode": {
    "name": "ipython",
    "version": 3
   },
   "file_extension": ".py",
   "mimetype": "text/x-python",
   "name": "python",
   "nbconvert_exporter": "python",
   "pygments_lexer": "ipython3",
   "version": "3.7.10"
  }
 },
 "nbformat": 4,
 "nbformat_minor": 5
}
