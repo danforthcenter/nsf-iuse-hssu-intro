{
 "cells": [
  {
   "cell_type": "markdown",
   "id": "9950105c-ef90-4ac3-91d0-80e664748eac",
   "metadata": {},
   "source": [
    "# Module 2: Introduction to plant image analysis with PlantCV\n",
    "\n",
    "[PlantCV homepage](https://plantcv.danforthcenter.org/)\n",
    "\n",
    "[PlantCV documentation](https://plantcv.readthedocs.io/en/stable/)"
   ]
  },
  {
   "cell_type": "code",
   "execution_count": null,
   "id": "98119bf2-78f7-4349-8b62-fe61bb43ca08",
   "metadata": {},
   "outputs": [],
   "source": [
    "%matplotlib widget\n",
    "import matplotlib\n",
    "from plantcv import plantcv as pcv"
   ]
  },
  {
   "cell_type": "code",
   "execution_count": null,
   "id": "d02b69b7-9761-4fd6-85b3-f0b6bc80ab62",
   "metadata": {},
   "outputs": [],
   "source": [
    "matplotlib.rcParams[\"figure.max_open_warning\"] = False\n",
    "pcv.params.debug = \"plot\"\n",
    "pcv.params.text_size=5\n",
    "pcv.params.text_thickness=10\n",
    "pcv.params.line_thickness = 10"
   ]
  },
  {
   "cell_type": "code",
   "execution_count": null,
   "id": "57a6a889-0464-4ba8-80d7-649f6ee5b33f",
   "metadata": {},
   "outputs": [],
   "source": [
    "pcv.__version__"
   ]
  },
  {
   "cell_type": "code",
   "execution_count": null,
   "id": "4be9422b-26c3-4a80-98af-84574338ddad",
   "metadata": {},
   "outputs": [],
   "source": [
    "# Open image file\n"
   ]
  },
  {
   "cell_type": "markdown",
   "id": "64c0ff79-19d7-4777-9ca6-1a55f1f0c22b",
   "metadata": {},
   "source": [
    "Color information can be represented using different models, or [color spaces](https://en.wikipedia.org/wiki/Color_space). Typical color images use an additive [RGB color model](https://en.wikipedia.org/wiki/RGB_color_model):\n",
    "\n",
    "![RGB color model](https://upload.wikimedia.org/wikipedia/commons/thumb/c/c2/AdditiveColor.svg/240px-AdditiveColor.svg.png)\n",
    "\n",
    "In printing, the subtractive [CMYK model](https://en.wikipedia.org/wiki/CMYK_color_model) is more typical:\n",
    "\n",
    "![CMYK color model](https://upload.wikimedia.org/wikipedia/commons/thumb/c/c9/CMYK_subtractive_color_mixing.svg/240px-CMYK_subtractive_color_mixing.svg.png)\n",
    "\n",
    "For image analysis and visual perception of color properties, other color models such as [Hue, Saturation, and Value (HSV)](https://en.wikipedia.org/wiki/HSL_and_HSV)\n",
    "or [CIELAB (LAB)](https://en.wikipedia.org/wiki/CIELAB_color_space) have advantages over RGB.\n",
    "\n",
    "![HSV color model](https://upload.wikimedia.org/wikipedia/commons/thumb/a/a0/Hsl-hsv_models.svg/240px-Hsl-hsv_models.svg.png)\n",
    "\n",
    "![LAB color model](https://upload.wikimedia.org/wikipedia/commons/thumb/3/33/Visible_gamut_within_CIELAB_color_space_D65_whitepoint_mesh.png/240px-Visible_gamut_within_CIELAB_color_space_D65_whitepoint_mesh.png)"
   ]
  },
  {
   "cell_type": "code",
   "execution_count": null,
   "id": "0a3e926e-c70f-4029-90fd-997f0511c062",
   "metadata": {},
   "outputs": [],
   "source": [
    "# Visualize component HSV and LAB color spaces\n"
   ]
  },
  {
   "cell_type": "code",
   "execution_count": null,
   "id": "a671ec84-071d-4f58-be86-705a68b6adaa",
   "metadata": {},
   "outputs": [],
   "source": [
    "# Convert the RGB image into a grayscale image by choosing one of the HSV or LAB channels\n"
   ]
  },
  {
   "cell_type": "code",
   "execution_count": null,
   "id": "57865a97-cb1c-44ce-97e3-b5afa18145af",
   "metadata": {},
   "outputs": [],
   "source": [
    "# Visualize a histogram of the grayscale values to identify signal related to the plant and the background\n"
   ]
  },
  {
   "cell_type": "code",
   "execution_count": null,
   "id": "de6823f7-d89b-4ec8-9e37-b44a9bbc6315",
   "metadata": {},
   "outputs": [],
   "source": [
    "# Use the histogram to set a binary threshold where the plant pixels will be labeled white and the background will be labeled black\n"
   ]
  },
  {
   "cell_type": "code",
   "execution_count": null,
   "id": "00c052f5-e414-4641-ab25-a5ea85dac245",
   "metadata": {},
   "outputs": [],
   "source": [
    "# Instead of setting a manual threshold, try an automatic threshold method such as Otsu\n"
   ]
  },
  {
   "cell_type": "code",
   "execution_count": null,
   "id": "3c56f528-99a3-491d-926f-264a0d621383",
   "metadata": {},
   "outputs": [],
   "source": [
    "# Remove \"salt\" noise from the binary image\n"
   ]
  },
  {
   "cell_type": "code",
   "execution_count": null,
   "id": "71853d78-76d8-4a8f-9fb0-530594f67c0b",
   "metadata": {},
   "outputs": [],
   "source": [
    "# Define a region of interest (ROI) where we expect to find a plant\n"
   ]
  },
  {
   "cell_type": "code",
   "execution_count": null,
   "id": "c3b2210d-f155-4261-9291-c484c29d6486",
   "metadata": {},
   "outputs": [],
   "source": [
    "# Identify connected components (contours) using the binary image\n"
   ]
  },
  {
   "cell_type": "code",
   "execution_count": null,
   "id": "2fa8c599-e8a0-4f2d-b33f-3aae0e293b58",
   "metadata": {},
   "outputs": [],
   "source": [
    "# Use the ROI and the contours to filter the contours based on overlap with the ROI\n"
   ]
  },
  {
   "cell_type": "code",
   "execution_count": null,
   "id": "1d390caf-b7f2-411a-901b-e9ff7aa30e41",
   "metadata": {},
   "outputs": [],
   "source": [
    "# Combine the contours into a single plant object\n"
   ]
  },
  {
   "cell_type": "code",
   "execution_count": null,
   "id": "1e7ac779-c911-4486-8d24-8ba4ad834203",
   "metadata": {},
   "outputs": [],
   "source": [
    "# Measure the size and shape of the plant\n"
   ]
  },
  {
   "cell_type": "code",
   "execution_count": null,
   "id": "efe75fe9-85b8-4490-8a9b-5e5ad91e1265",
   "metadata": {},
   "outputs": [],
   "source": [
    "# Measure the color properties of the plant\n"
   ]
  },
  {
   "cell_type": "code",
   "execution_count": null,
   "id": "20a41a98-f2cc-4178-b249-ba67a4f2f0c7",
   "metadata": {},
   "outputs": [],
   "source": [
    "# Save the measurements to a comma-separated value (CSV) file\n"
   ]
  },
  {
   "cell_type": "code",
   "execution_count": null,
   "id": "06779e1d-fdd8-42d0-8445-a02fcc716c2d",
   "metadata": {},
   "outputs": [],
   "source": []
  }
 ],
 "metadata": {
  "kernelspec": {
   "display_name": "Python [conda env:plantcv] *",
   "language": "python",
   "name": "conda-env-plantcv-py"
  },
  "language_info": {
   "codemirror_mode": {
    "name": "ipython",
    "version": 3
   },
   "file_extension": ".py",
   "mimetype": "text/x-python",
   "name": "python",
   "nbconvert_exporter": "python",
   "pygments_lexer": "ipython3",
   "version": "3.7.10"
  }
 },
 "nbformat": 4,
 "nbformat_minor": 5
}
